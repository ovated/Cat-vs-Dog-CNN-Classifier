{
  "cells": [
    {
      "cell_type": "markdown",
      "source": [
        "## Cat and Dog CNN Classifier"
      ],
      "metadata": {
        "id": "LeX4uWBsR-Od"
      }
    },
    {
      "cell_type": "code",
      "execution_count": 1,
      "metadata": {
        "id": "9HZsjfTJ4P4r"
      },
      "outputs": [],
      "source": [
        "import tensorflow as tf"
      ]
    },
    {
      "cell_type": "code",
      "source": [
        "from google.colab import drive\n",
        "drive.mount('/content/drive')"
      ],
      "metadata": {
        "colab": {
          "base_uri": "https://localhost:8080/"
        },
        "id": "tEkdV93XvBEy",
        "outputId": "607899ef-4f12-47f3-8d3e-7ae772838363"
      },
      "execution_count": 2,
      "outputs": [
        {
          "output_type": "stream",
          "name": "stdout",
          "text": [
            "Mounted at /content/drive\n"
          ]
        }
      ]
    },
    {
      "cell_type": "code",
      "source": [
        "# This is to move the pictures froms the zipped folder in google drive, to an unzipped folder\n",
        "# !unrar x \"/content/drive/My Drive/Data/Cat_Dog_data.rar\" \"/content/drive/My Drive/Data/Cat_Dog_data_unrar\""
      ],
      "metadata": {
        "id": "SsKUNDXT95pX"
      },
      "execution_count": 3,
      "outputs": []
    },
    {
      "cell_type": "markdown",
      "metadata": {
        "id": "IpWdLhoLIteQ"
      },
      "source": [
        "## Data Preparation"
      ]
    },
    {
      "cell_type": "code",
      "execution_count": 4,
      "metadata": {
        "id": "CblHlr-fGbBH"
      },
      "outputs": [],
      "source": [
        "import numpy as np\n",
        "import os\n",
        "import shutil\n",
        "from os import listdir\n",
        "from os.path import isfile, join\n",
        "import os, shutil"
      ]
    },
    {
      "cell_type": "code",
      "execution_count": 5,
      "metadata": {
        "colab": {
          "base_uri": "https://localhost:8080/"
        },
        "id": "2MHObFq4GoZI",
        "outputId": "9a28cb21-944b-486b-f624-3ecd94ac6c0c"
      },
      "outputs": [
        {
          "output_type": "stream",
          "name": "stdout",
          "text": [
            "# cat val 2000\n",
            "# cat train 2000\n",
            "# dog val 2000\n",
            "# dog train 2000\n"
          ]
        }
      ],
      "source": [
        "print(\"# cat val\", len(os.listdir(\"/content/drive/My Drive/Data/Cat_Dog_data_unrar/Cat_Dog_data/data/validation_set/cat\")))\n",
        "print(\"# cat train\", len(os.listdir(\"/content/drive/My Drive/Data/Cat_Dog_data_unrar/Cat_Dog_data/data/training_set/cat\")))\n",
        "print(\"# dog val\", len(os.listdir(\"/content/drive/My Drive/Data/Cat_Dog_data_unrar/Cat_Dog_data/data/validation_set/dog\")))\n",
        "print(\"# dog train\", len(os.listdir(\"/content/drive/My Drive/Data/Cat_Dog_data_unrar/Cat_Dog_data/data/training_set/dog\")))"
      ]
    },
    {
      "cell_type": "code",
      "execution_count": 6,
      "metadata": {
        "id": "nJ7Ba0Cl_R5C"
      },
      "outputs": [],
      "source": [
        "base_dir = \"/content/drive/My Drive/Data/Cat_Dog_data_unrar/Cat_Dog_data\"\n",
        "\n",
        "train_dir = os.path.join(base_dir, 'data/training_set')\n",
        "validation_dir = os.path.join(base_dir, 'data/validation_set')\n",
        "\n",
        "train_cats_dir = os.path.join(train_dir, 'cat')  # directory with our training cat pictures\n",
        "train_dogs_dir = os.path.join(train_dir, 'dog')  # directory with our training dog pictures\n",
        "validation_cats_dir = os.path.join(validation_dir, 'cat')  # directory with our validation cat pictures\n",
        "validation_dogs_dir = os.path.join(validation_dir, 'dog')  # directory with our validation dog pictures"
      ]
    },
    {
      "cell_type": "code",
      "execution_count": 7,
      "metadata": {
        "id": "AjZ1S4DY_R2h"
      },
      "outputs": [],
      "source": [
        "num_cats_tr = len(os.listdir(train_cats_dir))\n",
        "num_dogs_tr = len(os.listdir(train_dogs_dir))\n",
        "\n",
        "num_cats_val = len(os.listdir(validation_cats_dir))\n",
        "num_dogs_val = len(os.listdir(validation_dogs_dir))\n",
        "\n",
        "total_train = num_cats_tr + num_dogs_tr\n",
        "total_val = num_cats_val + num_dogs_val"
      ]
    },
    {
      "cell_type": "code",
      "execution_count": 8,
      "metadata": {
        "id": "SouzFa2HI5VX"
      },
      "outputs": [],
      "source": [
        "import numpy as np # linear algebra\n",
        "import pandas as pd # data processing, CSV file I/O (e.g. pd.read_csv)\n",
        "import cv2\n",
        "import matplotlib.pyplot as plt\n",
        "plt.style.use('ggplot')\n",
        "from sklearn.model_selection import train_test_split\n",
        "\n",
        "rows = 128\n",
        "cols= 128"
      ]
    },
    {
      "cell_type": "markdown",
      "metadata": {
        "_uuid": "35f974a2088b822ff91886dd221ce124924efacc",
        "id": "D_5PyPPB1kGV"
      },
      "source": [
        "# Data Pre-processing"
      ]
    },
    {
      "cell_type": "code",
      "execution_count": 9,
      "metadata": {
        "_uuid": "bed2deee652a7d4815cb7f2c219fb4b75e82a24c",
        "colab": {
          "base_uri": "https://localhost:8080/"
        },
        "id": "CddZTPab1kGV",
        "outputId": "261c819d-42f1-4534-f45f-3f371c206e4c"
      },
      "outputs": [
        {
          "output_type": "stream",
          "name": "stdout",
          "text": [
            "Model: \"sequential\"\n",
            "_________________________________________________________________\n",
            " Layer (type)                Output Shape              Param #   \n",
            "=================================================================\n",
            " conv2d (Conv2D)             (None, 126, 126, 32)      896       \n",
            "                                                                 \n",
            " max_pooling2d (MaxPooling2D  (None, 63, 63, 32)       0         \n",
            " )                                                               \n",
            "                                                                 \n",
            " conv2d_1 (Conv2D)           (None, 61, 61, 64)        18496     \n",
            "                                                                 \n",
            " max_pooling2d_1 (MaxPooling  (None, 30, 30, 64)       0         \n",
            " 2D)                                                             \n",
            "                                                                 \n",
            " conv2d_2 (Conv2D)           (None, 28, 28, 64)        36928     \n",
            "                                                                 \n",
            " max_pooling2d_2 (MaxPooling  (None, 14, 14, 64)       0         \n",
            " 2D)                                                             \n",
            "                                                                 \n",
            " flatten (Flatten)           (None, 12544)             0         \n",
            "                                                                 \n",
            " dense (Dense)               (None, 512)               6423040   \n",
            "                                                                 \n",
            " dense_1 (Dense)             (None, 1)                 513       \n",
            "                                                                 \n",
            "=================================================================\n",
            "Total params: 6,479,873\n",
            "Trainable params: 6,479,873\n",
            "Non-trainable params: 0\n",
            "_________________________________________________________________\n"
          ]
        }
      ],
      "source": [
        "model = tf.keras.models.Sequential()\n",
        "model.add(tf.keras.layers.Conv2D(32, (3,3), activation='relu', input_shape=(rows, cols, 3)))\n",
        "model.add(tf.keras.layers.MaxPooling2D((2, 2)))\n",
        "\n",
        "model.add(tf.keras.layers.Conv2D(64, (3,3), activation='relu'))\n",
        "model.add(tf.keras.layers.MaxPooling2D((2, 2)))\n",
        "\n",
        "model.add(tf.keras.layers.Conv2D(64, (3,3), activation='relu'))\n",
        "model.add(tf.keras.layers.MaxPooling2D((2, 2)))\n",
        "\n",
        "model.add(tf.keras.layers.Flatten())\n",
        "model.add(tf.keras.layers.Dense(512))\n",
        "model.add(tf.keras.layers.Dense(1, activation='sigmoid'))\n",
        "model.summary()"
      ]
    },
    {
      "cell_type": "code",
      "execution_count": 10,
      "metadata": {
        "_uuid": "2e632292213c8971db21fbc4f45cc273671c6eed",
        "id": "Si46BeYA1kGY",
        "outputId": "68568b0f-cb3f-4723-ad87-915fa2b64235",
        "colab": {
          "base_uri": "https://localhost:8080/"
        }
      },
      "outputs": [
        {
          "output_type": "stream",
          "name": "stderr",
          "text": [
            "/usr/local/lib/python3.7/dist-packages/keras/optimizer_v2/rmsprop.py:130: UserWarning: The `lr` argument is deprecated, use `learning_rate` instead.\n",
            "  super(RMSprop, self).__init__(name, **kwargs)\n"
          ]
        }
      ],
      "source": [
        "model.compile(loss='binary_crossentropy',\n",
        "              optimizer=tf.keras.optimizers.RMSprop(lr=1e-4),\n",
        "              metrics=['acc'])"
      ]
    },
    {
      "cell_type": "code",
      "execution_count": 11,
      "metadata": {
        "_uuid": "5ac36be02bb78e97e34d3b1e06a08b2f8bd32808",
        "colab": {
          "base_uri": "https://localhost:8080/"
        },
        "id": "0V8fSm8T1kGa",
        "outputId": "429f12ae-3313-4a23-a23a-0b21104ac78f"
      },
      "outputs": [
        {
          "output_type": "stream",
          "name": "stdout",
          "text": [
            "Found 4000 images belonging to 2 classes.\n",
            "Found 4000 images belonging to 2 classes.\n"
          ]
        }
      ],
      "source": [
        "from tensorflow.keras.preprocessing.image import ImageDataGenerator\n",
        "\n",
        "x_train_datagen = ImageDataGenerator(rescale=1./255)\n",
        "x_val_datagen = ImageDataGenerator(rescale=1./255)\n",
        "\n",
        "train_datagen = x_train_datagen.flow_from_directory(\"/content/drive/My Drive/Data/Cat_Dog_data_unrar/Cat_Dog_data/data/training_set\",\n",
        "                                                    target_size=(rows,cols),\n",
        "                                                    batch_size=40,\n",
        "                                                    class_mode='binary')\n",
        "val_datagen = x_val_datagen.flow_from_directory(\"/content/drive/My Drive/Data/Cat_Dog_data_unrar/Cat_Dog_data/data/validation_set\",\n",
        "                                                target_size=(rows,cols),\n",
        "                                                batch_size=40,\n",
        "                                                class_mode='binary')"
      ]
    },
    {
      "cell_type": "code",
      "execution_count": 12,
      "metadata": {
        "_uuid": "96dae75d7622f6bd5871e72a6c6635e48312596b",
        "colab": {
          "base_uri": "https://localhost:8080/"
        },
        "id": "9rs0X9ao1kGc",
        "outputId": "f53dc8e9-114a-404b-eac4-d770dfc64001",
        "scrolled": false
      },
      "outputs": [
        {
          "output_type": "stream",
          "name": "stderr",
          "text": [
            "/usr/local/lib/python3.7/dist-packages/ipykernel_launcher.py:9: UserWarning: `Model.fit_generator` is deprecated and will be removed in a future version. Please use `Model.fit`, which supports generators.\n",
            "  if __name__ == '__main__':\n"
          ]
        },
        {
          "output_type": "stream",
          "name": "stdout",
          "text": [
            "Epoch 1/30\n",
            "100/100 [==============================] - 527s 5s/step - loss: 0.6854 - acc: 0.5705 - val_loss: 0.6388 - val_acc: 0.6005\n",
            "Epoch 2/30\n",
            "100/100 [==============================] - 137s 1s/step - loss: 0.5911 - acc: 0.6885 - val_loss: 0.5578 - val_acc: 0.6970\n",
            "Epoch 3/30\n",
            "100/100 [==============================] - 80s 809ms/step - loss: 0.5391 - acc: 0.7345 - val_loss: 0.4884 - val_acc: 0.7930\n",
            "Epoch 4/30\n",
            "100/100 [==============================] - 53s 534ms/step - loss: 0.5098 - acc: 0.7555 - val_loss: 0.4623 - val_acc: 0.7980\n",
            "Epoch 5/30\n",
            "100/100 [==============================] - 38s 377ms/step - loss: 0.4770 - acc: 0.7770 - val_loss: 0.4304 - val_acc: 0.8155\n",
            "Epoch 6/30\n",
            "100/100 [==============================] - 32s 323ms/step - loss: 0.4491 - acc: 0.7893 - val_loss: 0.4107 - val_acc: 0.8245\n",
            "Epoch 7/30\n",
            "100/100 [==============================] - 29s 291ms/step - loss: 0.4218 - acc: 0.7993 - val_loss: 0.3797 - val_acc: 0.8450\n",
            "Epoch 8/30\n",
            "100/100 [==============================] - 27s 267ms/step - loss: 0.3990 - acc: 0.8255 - val_loss: 0.3436 - val_acc: 0.8770\n",
            "Epoch 9/30\n",
            "100/100 [==============================] - 25s 254ms/step - loss: 0.3704 - acc: 0.8420 - val_loss: 0.3231 - val_acc: 0.8755\n",
            "Epoch 10/30\n",
            "100/100 [==============================] - 25s 250ms/step - loss: 0.3541 - acc: 0.8455 - val_loss: 0.2920 - val_acc: 0.8995\n",
            "Epoch 11/30\n",
            "100/100 [==============================] - 25s 254ms/step - loss: 0.3315 - acc: 0.8637 - val_loss: 0.4470 - val_acc: 0.7645\n",
            "Epoch 12/30\n",
            "100/100 [==============================] - 25s 249ms/step - loss: 0.3049 - acc: 0.8727 - val_loss: 0.2528 - val_acc: 0.9185\n",
            "Epoch 13/30\n",
            "100/100 [==============================] - 25s 251ms/step - loss: 0.2835 - acc: 0.8885 - val_loss: 0.2275 - val_acc: 0.9215\n",
            "Epoch 14/30\n",
            "100/100 [==============================] - 25s 249ms/step - loss: 0.2687 - acc: 0.8920 - val_loss: 0.2321 - val_acc: 0.9170\n",
            "Epoch 15/30\n",
            "100/100 [==============================] - 25s 246ms/step - loss: 0.2476 - acc: 0.8982 - val_loss: 0.2315 - val_acc: 0.9015\n",
            "Epoch 16/30\n",
            "100/100 [==============================] - 25s 255ms/step - loss: 0.2233 - acc: 0.9145 - val_loss: 0.1807 - val_acc: 0.9385\n",
            "Epoch 17/30\n",
            "100/100 [==============================] - 25s 249ms/step - loss: 0.2065 - acc: 0.9222 - val_loss: 0.2010 - val_acc: 0.9230\n",
            "Epoch 18/30\n",
            "100/100 [==============================] - 25s 255ms/step - loss: 0.1947 - acc: 0.9265 - val_loss: 0.1400 - val_acc: 0.9675\n",
            "Epoch 19/30\n",
            "100/100 [==============================] - 25s 249ms/step - loss: 0.1704 - acc: 0.9423 - val_loss: 0.1413 - val_acc: 0.9585\n",
            "Epoch 20/30\n",
            "100/100 [==============================] - 24s 243ms/step - loss: 0.1536 - acc: 0.9513 - val_loss: 0.1194 - val_acc: 0.9680\n",
            "Epoch 21/30\n",
            "100/100 [==============================] - 25s 252ms/step - loss: 0.1348 - acc: 0.9532 - val_loss: 0.1030 - val_acc: 0.9800\n",
            "Epoch 22/30\n",
            "100/100 [==============================] - 25s 250ms/step - loss: 0.1227 - acc: 0.9635 - val_loss: 0.1734 - val_acc: 0.9305\n",
            "Epoch 23/30\n",
            "100/100 [==============================] - 26s 257ms/step - loss: 0.1083 - acc: 0.9650 - val_loss: 0.1197 - val_acc: 0.9520\n",
            "Epoch 24/30\n",
            "100/100 [==============================] - 25s 251ms/step - loss: 0.0974 - acc: 0.9700 - val_loss: 0.0617 - val_acc: 0.9895\n",
            "Epoch 25/30\n",
            "100/100 [==============================] - 25s 250ms/step - loss: 0.0848 - acc: 0.9765 - val_loss: 0.0535 - val_acc: 0.9910\n",
            "Epoch 26/30\n",
            "100/100 [==============================] - 24s 245ms/step - loss: 0.0789 - acc: 0.9753 - val_loss: 0.1073 - val_acc: 0.9635\n",
            "Epoch 27/30\n",
            "100/100 [==============================] - 25s 250ms/step - loss: 0.0671 - acc: 0.9820 - val_loss: 0.0340 - val_acc: 0.9960\n",
            "Epoch 28/30\n",
            "100/100 [==============================] - 25s 249ms/step - loss: 0.0591 - acc: 0.9840 - val_loss: 0.0304 - val_acc: 0.9975\n",
            "Epoch 29/30\n",
            "100/100 [==============================] - 25s 252ms/step - loss: 0.0469 - acc: 0.9877 - val_loss: 0.0714 - val_acc: 0.9770\n",
            "Epoch 30/30\n",
            "100/100 [==============================] - 25s 250ms/step - loss: 0.0501 - acc: 0.9880 - val_loss: 0.0219 - val_acc: 0.9985\n"
          ]
        }
      ],
      "source": [
        "epochs = 30\n",
        "\n",
        "# steps_per_epoch = samples / batch_size\n",
        "\n",
        "H = model.fit_generator(train_datagen,\n",
        "                        steps_per_epoch=100, \n",
        "                        epochs=epochs,\n",
        "                        validation_data=val_datagen,\n",
        "                        validation_steps=50)"
      ]
    },
    {
      "cell_type": "code",
      "execution_count": 13,
      "metadata": {
        "colab": {
          "base_uri": "https://localhost:8080/"
        },
        "id": "KHyZr4V2M6in",
        "outputId": "9e379390-0c2e-4752-f608-585475643215"
      },
      "outputs": [
        {
          "output_type": "execute_result",
          "data": {
            "text/plain": [
              "dict_keys(['loss', 'acc', 'val_loss', 'val_acc'])"
            ]
          },
          "metadata": {},
          "execution_count": 13
        }
      ],
      "source": [
        "H.history.keys()"
      ]
    },
    {
      "cell_type": "code",
      "execution_count": 14,
      "metadata": {
        "_uuid": "4b0bcde2937339283b69a9ea59b9b49c9e36a956",
        "colab": {
          "base_uri": "https://localhost:8080/",
          "height": 547
        },
        "id": "e1waymjp1kGe",
        "outputId": "8e1d347c-3d1e-4816-afd5-74a6961d9806"
      },
      "outputs": [
        {
          "output_type": "display_data",
          "data": {
            "image/png": "[encoded data removed]",
            "text/plain": [
              "<Figure size 432x288 with 1 Axes>"
            ]
          },
          "metadata": {}
        },
        {
          "output_type": "display_data",
          "data": {
            "image/png": "[encoded data removed]",
            "text/plain": [
              "<Figure size 432x288 with 1 Axes>"
            ]
          },
          "metadata": {}
        }
      ],
      "source": [
        "acc = H.history['acc']\n",
        "val_acc = H.history['val_acc']\n",
        "loss = H.history['loss']\n",
        "val_loss = H.history['val_loss']\n",
        "\n",
        "epochs = range(1, len(acc) + 1)\n",
        "\n",
        "plt.plot(epochs, acc, 'bo', label='Training acc')\n",
        "plt.plot(epochs, val_acc, 'g', label='Validation acc')\n",
        "plt.title('Training and validation accuracy')\n",
        "plt.legend()\n",
        "\n",
        "plt.figure()\n",
        "plt.plot(epochs, loss, 'bo', label='Training loss')\n",
        "plt.plot(epochs, val_loss, 'g', label='Validation loss')\n",
        "plt.title('Training and validation loss')\n",
        "plt.legend()\n",
        "plt.show()"
      ]
    },
    {
      "cell_type": "markdown",
      "metadata": {
        "id": "KW3XE3HUrqnt"
      },
      "source": [
        "## Save the model"
      ]
    },
    {
      "cell_type": "code",
      "execution_count": 15,
      "metadata": {
        "id": "Z7C0MG-Qrqnv"
      },
      "outputs": [],
      "source": [
        "model.save(\"/content/drive/My Drive/cat_dog_cnn_classifier.h5\")"
      ]
    },
    {
      "cell_type": "code",
      "execution_count": null,
      "metadata": {
        "id": "jEizPJGYrqnv"
      },
      "outputs": [],
      "source": [
        ""
      ]
    }
  ],
  "metadata": {
    "accelerator": "GPU",
    "colab": {
      "collapsed_sections": [],
      "name": "Cats_and_Dogs_Classification.ipynb",
      "provenance": [],
      "toc_visible": true
    },
    "kernelspec": {
      "display_name": "Python 3",
      "language": "python",
      "name": "python3"
    },
    "language_info": {
      "codemirror_mode": {
        "name": "ipython",
        "version": 3
      },
      "file_extension": ".py",
      "mimetype": "text/x-python",
      "name": "python",
      "nbconvert_exporter": "python",
      "pygments_lexer": "ipython3",
      "version": "3.6.12"
    }
  },
  "nbformat": 4,
  "nbformat_minor": 0
}